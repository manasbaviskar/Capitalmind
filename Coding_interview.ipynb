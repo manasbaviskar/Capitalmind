{
 "cells": [
  {
   "cell_type": "markdown",
   "id": "7832be79-8197-425b-8c0b-4d5d253c9e82",
   "metadata": {},
   "source": [
    "## Capitalmind Coding Test"
   ]
  },
  {
   "cell_type": "markdown",
   "id": "a4f4db51-cf76-4b3e-a042-d665e17f2a5d",
   "metadata": {},
   "source": [
    "### Importing relevant libraries"
   ]
  },
  {
   "cell_type": "code",
   "execution_count": 1,
   "id": "8a741451-44c6-428a-8340-e0b27cc815e7",
   "metadata": {
    "collapsed": true,
    "jupyter": {
     "outputs_hidden": true
    },
    "tags": []
   },
   "outputs": [
    {
     "name": "stderr",
     "output_type": "stream",
     "text": [
      "C:\\Users\\MANAS\\anaconda3\\lib\\site-packages\\numpy\\_distributor_init.py:30: UserWarning: loaded more than 1 DLL from .libs:\n",
      "C:\\Users\\MANAS\\anaconda3\\lib\\site-packages\\numpy\\.libs\\libopenblas.EL2C6PLE4ZYW3ECEVIV3OXXGRN2NRFM2.gfortran-win_amd64.dll\n",
      "C:\\Users\\MANAS\\anaconda3\\lib\\site-packages\\numpy\\.libs\\libopenblas.XWYDX2IKJW2NMTWSFYNGFUWKQU3LYTCZ.gfortran-win_amd64.dll\n",
      "  warnings.warn(\"loaded more than 1 DLL from .libs:\"\n"
     ]
    }
   ],
   "source": [
    "import pandas as pd\n",
    "import numpy as np\n",
    "from datetime import timedelta, date\n",
    "import datetime as datetime\n",
    "from datetime import datetime\n",
    "from dateutil.relativedelta import relativedelta\n",
    "from dateparser import parse\n",
    "import undetected_chromedriver as uc\n",
    "from selenium.webdriver.support.ui import WebDriverWait\n",
    "from selenium.webdriver.support.ui import Select\n",
    "from selenium.webdriver.common.by import By\n",
    "import time\n",
    "import os\n",
    "import seaborn as sns\n",
    "import matplotlib.pyplot as plt\n",
    "import warnings\n",
    "\n",
    "%matplotlib inline\n",
    "warnings.filterwarnings('ignore')\n",
    "\n",
    "pd.options.display.precision=4\n",
    "plt.style.use('seaborn-ticks')\n",
    "import warnings\n",
    "\n",
    "warnings.filterwarnings('ignore')"
   ]
  },
  {
   "cell_type": "code",
   "execution_count": 2,
   "id": "050d7ad6-eb66-4fdf-9f2a-e42e76cc87c4",
   "metadata": {},
   "outputs": [],
   "source": [
    "today = datetime.today()\n",
    "year = 2022 #year to be selected from the menu on BSE website. \n",
    "month_list = [5,6,7]  #list of months correspond to month numbers on calenders. Only data for those months will be extracted."
   ]
  },
  {
   "cell_type": "code",
   "execution_count": 3,
   "id": "003bca2e-143f-4c20-a5bb-7955b81620a6",
   "metadata": {},
   "outputs": [],
   "source": [
    "#setting the driver\n",
    "driver = uc.Chrome()\n",
    "driver.get('https://www.bseindia.com/markets/keystatics/Keystat_index.aspx')"
   ]
  },
  {
   "cell_type": "code",
   "execution_count": 4,
   "id": "18fea72a-d3d1-464a-800c-9e7516bc8186",
   "metadata": {},
   "outputs": [],
   "source": [
    "#selecting the type index : S&P BSE 500\n",
    "ddelement= Select(driver.find_element_by_xpath('//*[@id=\"ContentPlaceHolder1_ddltype\"]'))\n",
    "ddelement.select_by_visible_text('S&P BSE 500')"
   ]
  },
  {
   "cell_type": "code",
   "execution_count": 5,
   "id": "45a3df94-7cd7-4f25-a271-693e53d51d79",
   "metadata": {},
   "outputs": [],
   "source": [
    "\"\"\"\n",
    "On BSE website XPaths of years are as follows :\n",
    "\n",
    "//*[@id=\"ContentPlaceHolder1_gvReport_Linkbtn_0\"] ---- for 2022-2023 which is link at row 0 \n",
    "//*[@id=\"ContentPlaceHolder1_gvReport_Linkbtn_1\"] ---- for 2021-2022 which is link at row 1\n",
    "//*[@id=\"ContentPlaceHolder1_gvReport_Linkbtn_2\"] ---- for 2020-2021 which is link at row 2 and so on...\n",
    "\n",
    "Therefore, formula for quering out the specific link from the list of years is\n",
    "linkbutton = current year - year of required data \n",
    "eg: if we have selected the year = 2021-->  linkbutton = 1 --> which will query the link at 1st row.\n",
    "\"\"\"\n",
    "linkbutton = today.year - year\n",
    "link_year = WebDriverWait(driver, 10).until(lambda x: x.find_element_by_xpath(f'//*[@id=\"ContentPlaceHolder1_gvReport_Linkbtn_{linkbutton}\"]'))\n",
    "link_year.click()"
   ]
  },
  {
   "cell_type": "code",
   "execution_count": 6,
   "id": "ccaf8fe2-abb9-49a8-9454-5fcc1f07922f",
   "metadata": {},
   "outputs": [],
   "source": [
    "\"\"\"\n",
    "//*[@id=\"ContentPlaceHolder1_gvYearwise_lnkmonth_0\"] ---- for the most recent month \n",
    "- A similar process is followed as quering the linkbutton in the above cell.\n",
    "- Quering the data for a specific month by iterating over a loop \n",
    "\"\"\"\n",
    "\n",
    "df = pd.DataFrame(columns = [\"Date\",\"Value\"])\n",
    "for i in month_list:\n",
    "    linkmonth = today.month - i\n",
    "    link_month = WebDriverWait(driver, 10).until(lambda x: x.find_element_by_xpath(f'//*[@id=\"ContentPlaceHolder1_gvYearwise_lnkmonth_{linkmonth}\"]'))\n",
    "    link_month.click()\n",
    "    time.sleep(10)\n",
    "    table_trs = driver.find_elements(By.XPATH, '//table[@id=\\\"ContentPlaceHolder1_grddaily\\\"]/tbody/tr')\n",
    "    value_list = []\n",
    "    for row in table_trs[1:]:\n",
    "        df = df.append({\n",
    "            'Date':row.find_elements(By.TAG_NAME, \"td\")[0].text,\n",
    "            'Value':row.find_elements(By.TAG_NAME, \"td\")[5].text\n",
    "            },ignore_index=True)\n",
    "  "
   ]
  },
  {
   "cell_type": "code",
   "execution_count": 7,
   "id": "3cb40d1e-ce83-4743-abfc-895b3fd7c0d9",
   "metadata": {},
   "outputs": [],
   "source": [
    "#converting the alphanumeric dates to datetime format \n",
    "for i in range(df.shape[0]):\n",
    "    df.Date[i] = parse(df.Date[i])\n",
    "    df.Date[i] = df.Date[i].strftime(\"%Y-%m-%d\")"
   ]
  },
  {
   "cell_type": "code",
   "execution_count": 8,
   "id": "4b633d13-45d0-4dc8-a85e-733ff450f305",
   "metadata": {},
   "outputs": [
    {
     "data": {
      "text/html": [
       "<div>\n",
       "<style scoped>\n",
       "    .dataframe tbody tr th:only-of-type {\n",
       "        vertical-align: middle;\n",
       "    }\n",
       "\n",
       "    .dataframe tbody tr th {\n",
       "        vertical-align: top;\n",
       "    }\n",
       "\n",
       "    .dataframe thead th {\n",
       "        text-align: right;\n",
       "    }\n",
       "</style>\n",
       "<table border=\"1\" class=\"dataframe\">\n",
       "  <thead>\n",
       "    <tr style=\"text-align: right;\">\n",
       "      <th></th>\n",
       "      <th>Date</th>\n",
       "      <th>Value</th>\n",
       "    </tr>\n",
       "  </thead>\n",
       "  <tbody>\n",
       "    <tr>\n",
       "      <th>0</th>\n",
       "      <td>2022-06-01</td>\n",
       "      <td>3.03</td>\n",
       "    </tr>\n",
       "    <tr>\n",
       "      <th>1</th>\n",
       "      <td>2022-06-02</td>\n",
       "      <td>3.05</td>\n",
       "    </tr>\n",
       "    <tr>\n",
       "      <th>2</th>\n",
       "      <td>2022-06-03</td>\n",
       "      <td>3.03</td>\n",
       "    </tr>\n",
       "    <tr>\n",
       "      <th>3</th>\n",
       "      <td>2022-06-06</td>\n",
       "      <td>3.03</td>\n",
       "    </tr>\n",
       "    <tr>\n",
       "      <th>4</th>\n",
       "      <td>2022-06-07</td>\n",
       "      <td>3.00</td>\n",
       "    </tr>\n",
       "  </tbody>\n",
       "</table>\n",
       "</div>"
      ],
      "text/plain": [
       "         Date Value\n",
       "0  2022-06-01  3.03\n",
       "1  2022-06-02  3.05\n",
       "2  2022-06-03  3.03\n",
       "3  2022-06-06  3.03\n",
       "4  2022-06-07  3.00"
      ]
     },
     "execution_count": 8,
     "metadata": {},
     "output_type": "execute_result"
    }
   ],
   "source": [
    "df.head()"
   ]
  },
  {
   "cell_type": "code",
   "execution_count": 9,
   "id": "0e174935-fe05-4f36-8307-c6df07ceac88",
   "metadata": {},
   "outputs": [],
   "source": [
    "#storing month, day for clear visualization of heatmap.\n",
    "df['Date']= pd.to_datetime(df['Date'])\n",
    "df['month'] = df['Date'].dt.month\n",
    "df['day'] = df['Date'].dt.day\n",
    "df['Value'] = df['Value'].astype(float)"
   ]
  },
  {
   "cell_type": "code",
   "execution_count": 10,
   "id": "5e0ad919-3e94-4beb-a48b-80ae4642d241",
   "metadata": {},
   "outputs": [
    {
     "data": {
      "image/png": "[encoded data removed]",
      "text/plain": [
       "<Figure size 1080x1080 with 2 Axes>"
      ]
     },
     "metadata": {},
     "output_type": "display_data"
    }
   ],
   "source": [
    "#plotting heatmap\n",
    "pivot = df.pivot(index='day', columns='month', values='Value')\n",
    "f, ax = plt.subplots(figsize=(15,15))\n",
    "sns.set()\n",
    "ax = sns.heatmap(pivot, annot=True,  ax=ax)\n",
    "ax.set_xticklabels(df['day']);\n",
    "plt.xticks(rotation=-90)\n",
    "plt.savefig(r'C:\\Users\\MANAS\\CapitalMinds\\figure.jpg', dpi=600)\n",
    "plt.show()\n",
    "plt.close()"
   ]
  }
 ],
 "metadata": {
  "kernelspec": {
   "display_name": "Python 3 (ipykernel)",
   "language": "python",
   "name": "python3"
  },
  "language_info": {
   "codemirror_mode": {
    "name": "ipython",
    "version": 3
   },
   "file_extension": ".py",
   "mimetype": "text/x-python",
   "name": "python",
   "nbconvert_exporter": "python",
   "pygments_lexer": "ipython3",
   "version": "3.8.8"
  }
 },
 "nbformat": 4,
 "nbformat_minor": 5
}
